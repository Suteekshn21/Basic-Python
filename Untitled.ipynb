{
 "cells": [
  {
   "cell_type": "code",
   "execution_count": 3,
   "metadata": {},
   "outputs": [
    {
     "name": "stdout",
     "output_type": "stream",
     "text": [
      "7\n"
     ]
    }
   ],
   "source": [
    "shopping_list = [\"banana\", \"orange\", \"apple\"]\n",
    "\n",
    "stock = {\n",
    "  \"banana\": 6,\n",
    "  \"apple\": 0,\n",
    "  \"orange\": 32,\n",
    "  \"pear\": 15\n",
    "}\n",
    "    \n",
    "prices = {\n",
    "  \"banana\": 4,\n",
    "  \"apple\": 2,\n",
    "  \"orange\": 1.5,\n",
    "  \"pear\": 3\n",
    "}\n",
    "\n",
    "\n",
    "def compute_bill(food):\n",
    "  total = 0\n",
    "  for item in food:\n",
    "    if stock[item]>0:\n",
    "     total = total + prices[item]\n",
    "     stock[item]=stock[item] - 1\n",
    "  return total\n",
    "  print(total)\n",
    "grocery = {\"banana\" : 2 , \"pear\" : 1 , \"apple\" : 2}\n",
    "a = compute_bill(grocery)\n",
    "print(a)"
   ]
  },
  {
   "cell_type": "code",
   "execution_count": null,
   "metadata": {},
   "outputs": [],
   "source": []
  }
 ],
 "metadata": {
  "kernelspec": {
   "display_name": "Python 3",
   "language": "python",
   "name": "python3"
  },
  "language_info": {
   "codemirror_mode": {
    "name": "ipython",
    "version": 3
   },
   "file_extension": ".py",
   "mimetype": "text/x-python",
   "name": "python",
   "nbconvert_exporter": "python",
   "pygments_lexer": "ipython3",
   "version": "3.7.4"
  }
 },
 "nbformat": 4,
 "nbformat_minor": 2
}
